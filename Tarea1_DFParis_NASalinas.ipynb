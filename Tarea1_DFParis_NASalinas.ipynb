{
 "cells": [
  {
   "cell_type": "markdown",
   "metadata": {},
   "source": [
    "<img style=\"float: left; margin: 30px 15px 15px 15px;\" src=\"https://pngimage.net/wp-content/uploads/2018/06/logo-iteso-png-5.png\" width=\"300\" height=\"500\" /> \n",
    "    \n",
    "    \n",
    "### <font color='navy'> Simulación de procesos financieros. \n",
    "\n",
    "**Nombres:** Douglas Fabian Paris Merin & Noe Alejando Salinas Gandara.\n",
    "\n",
    "**Fecha:** 31 de enero del 2020.\n",
    "\n",
    "**Expediente** : 714977 & 714748.\n",
    "**Profesor:** Oscar David Jaramillo Zuluaga.\n",
    "\n",
    "# Tarea 1: Clase 3"
   ]
  },
  {
   "cell_type": "markdown",
   "metadata": {},
   "source": [
    "## Enunciado de tarea \n",
    "> Proyecto conjunto Github y resumen\n",
    "python"
   ]
  },
  {
   "cell_type": "markdown",
   "metadata": {},
   "source": [
    "### Ejercicio 1: Presentacíon y resumen"
   ]
  },
  {
   "cell_type": "markdown",
   "metadata": {},
   "source": [
    "# Parte Douglas Presentación\n",
    "\n",
    "Mi nombre es Douglas Fabian Paris Merin, tengo 21 años. Actualmente cuento con las siguientes actividades:\n",
    "\n",
    "* Estudio Ingeniería Financiera en **ITESO**, 6to semestre\n",
    "* Trabajo como analista financiero en una arrendadora, **Grupo MEGA**\n",
    "* Llevo 2 años con una start-up de servicios digitales y eventos \"underground\", llamado **Subnormal**\n",
    "<img style=\"float: right; margin: -70px 100px 15px 15px;\" src=\"data:image/png;base64,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\" width=\"100px\" height=\"100px\" alt=\"atom\" />\n",
    "\n",
    "Nací en Guadalajara, Jalisco, he residido toda mi vida en esta ciudad, pero me gustaría en un futuro vivir un tiempo en alguna de las siguientes ciudades, ordenadas por preferencia:\n",
    "\n",
    "1. Vienna, Austria\n",
    "2. Nueva York, EUA\n",
    "3. Osaka, Japón\n",
    "4. Copenhague, Dinamarca\n",
    "\n",
    "Del curso espero:\n",
    "* Aprender técnicas de simulacion para:\n",
    "    * Proyectar series\n",
    "    * Experimentar con cambios en variables\n",
    "    * Hacer \"fitting\" lo más apegado a la realidad\n",
    "* Aprender a programar vectorizadamente\n",
    "\n",
    "### *Figura 5 Parte 1*\n",
    "\n",
    "1. La fórmula el rectángulo se obtiene al interpolar a $f(x)$ por medio del polinomio constante $p_0 (x) = f(\\frac{a + b}{2}).$\n",
    "\n",
    " $$ \\int_a^b f(x) dx \\approx (b-a) f(\\frac{a+b}{2}) = R(f).$$\n",
    " \n",
    " 2. La fórmula del trapecio se obtiene al interpolar a $f$ por medio de un polinomio líneal $p_1(x) = \\alpha x + \\beta$ que satisfaga $f(a) = p_1(a),$ y $f(b) = p_1(b).$ Determinar el polinomio líneal es equivalente a resolver un sistema de ecuaciones lineales para $\\alpha$ y $\\beta$ cuya solucion es \n",
    " \n",
    "    $$\\alpha = \\frac{f(b)-f(a)}{b-a} ~~~~\\beta = \\frac{f(b)a - f(a)b}{b-a}.$$\n",
    "    \n",
    "Al integrar $p_1(x)$ en el intervalo $[a,b]$ se obtiene la regla del trapecio con $h=b-a$\n",
    "\n",
    "$$ \\int_a^b f(x) dx \\approx \\int_a^b p_1 (x) dx = \\frac{h}{2}(f(a)+f(b)) = T(f).$$\n",
    "\n"
   ]
  },
  {
   "cell_type": "markdown",
   "metadata": {},
   "source": [
    "# Parte Douglas Resumen\n",
    "## - [ Python has brought computer programming to a vast new audience](https://www.economist.com/science-and-technology/2018/07/19/python-has-brought-computer-programming-to-a-vast-new-audience)\n",
    "\n",
    "   Most likely, we all have heard about Python, but its deviser, Guido van Rossum, a Dutch computer scientist, said: “I CERTAINLY didn’t set out to create a language that was intended for mass consumption”. Python was created in 1989, he wanted to build his own. His principles were simple, simplicity and flexibility. It has a direct, english-like syntax and it does not uses parethesis or braces, which makes it a lot easier to learn, read and share. The other principle,was, the name, “short, unique and slightly mysterious” name. He therefore called it after Monty Python, a British comedy group. \n",
    "    \n",
    "   This had a huge consequence, people found out it was a lot easier to create stuff, and, thanks to github, a community for this language growed exponentially.\n",
    "    \n",
    "   Now, Python will not replace other languages, like C and C++, which are \"deeper\" options, which gives the user more in-depth control. Java, won´t vanish, it is popular for building complicated applications, along JavaScript, which powers most web pages. This languages will prevail, cause they are used and dominate on specific applications, unlike python, which is more flexible, and can be used for specific purposes as well, but, we will have to see future updates and integrations, and maybe, in the future, we can all program in an universal language.\n",
    "   \n",
    "   | Rank | Language    | Share   | Trend  |\n",
    "|------|-------------|---------|--------|\n",
    "| 1    | Python      | 29.72 % | +4.3 % |\n",
    "| 2    | Java        | 19.03 % | -1.9 % |\n",
    "| 3    | Javascript  | 8.2 %   | +0.1 % |\n",
    "| 4    | C#          | 7.28 %  | -0.2 % |\n",
    "| 5    | PHP         | 6.09 %  | -1.1 % |\n",
    "| 6    | C/C++       | 5.91 %  | -0.3 % |\n",
    "| 7    | R           | 3.72 %  | -0.2 % |\n",
    "| 8    | Objective-C | 2.47 %  | -0.6 % |\n",
    "| 9    | Swift       | 2.36 %  | -0.2 % |\n",
    "| 10   | Matlab      | 1.79 %  | -0.2 % |\n",
    "\n",
    "<footer id=\"attribution\" style=\"float:right; color:#808080; background:#fff;\">\n",
    "Source (As of Jan 2020): http://pypl.github.io/PYPL.html\n",
    "</footer>"
   ]
  },
  {
   "cell_type": "markdown",
   "metadata": {},
   "source": [
    "# Presentacion Noe\n",
    "## Mi nombre es Noé Salinas....\n",
    "\n",
    "tengo 22 años y actualmente curso el **6to** semestre de la carrera de ingeniería en finanzas, me gusta mucho la programación tanto que desde los 12 años comencé a aprender a programar, desde los 15 hasta los 18 estuve en la selección nacional de robótica, en donde yo era el programador. \n",
    "\n",
    "Antes de estudiar finanzas estudie Control Automático en el CETI Colomos,en donde reafirme mi gusto por las matemáticas y por la programación.\n",
    "\n",
    "><font color = blue >La introducción de la materia me pareció bastante interesante ya que esta materia combina 2 de las cosas que me gustan, las finanzas y la programación, entonces espero que sea una materia entretenida. <font/>\n",
    "\n",
    "**AHORA LA TABLA DE SALIDAS DE LA COMPUERTA LOGICA <font color = red> XOR** <font/>\n",
    "    \n",
    "| IN | IN | OUT |\n",
    "|:--:|:--:|:---:|\n",
    "| 0  | 0  |  0  |\n",
    "| 0  | 1  |  1  |\n",
    "| 1  | 0  |  1  |\n",
    "| 1  | 1  |  0  |"
   ]
  },
  {
   "cell_type": "markdown",
   "metadata": {},
   "source": [
    "#Parte Noe Resumen\n",
    "\n",
    "**Pyhton is becoming the world's most popular coding lenguage**\n",
    "\n",
    "*El articulo habla acerca de como Python se ha convertido en uno de los lenguajes de programacion de las ultimas decadas.*\n",
    "\n",
    "<font color = red >*Pyhton fue creado con algunos principios, la idea era hacerlo simple.* </font>\n",
    "   1. Tenia que ser facil de leer.\n",
    "   2. Tenia que permitir que los usuarios crearan sus propias librerias con modulos que tuvieran objetivos especificos y que estos sirvieran de base para nuevos programas.\n",
    "   3. Tenia que tener un nombre corto, unico y un poco misterios, Monthy <font color = yellow>Pyh</font><font color = blue>ton </font>\n",
    "\n",
    "- La popularidad de Python esta creciendo cada vez mas y aunque Python no es perfecto, ya que hay otros lenguajes de programacion mas eficientes o con capacidades de procesamiento mejores, la simplicidad de Python es lo que lo convierten en uno de los mejores lenguajes para desarrollo en general.\n",
    "\n",
    "**En esta grafica se puede ver como ha evolucionado la busqueda de Python a lo largo del tiempo.**\n",
    "<img src = \"https://www.economist.com/img/b/1000/1028/85/sites/default/files/images/print-edition/20180721_STC872.png\" alt = \"Busquedas de Python a lo largo del tiempo\" title = \"Busquedas de lenguaje de programacion en Google\" />\n",
    "\n",
    "Desde mi punto de vista, Python es una lenguaje de programacion muy intutivo, ademas de que la forma en que maneja la sintaxis te <font color = red> **\"obliga\"** </font> a tener un codigo bien <font color = blue > **\"indentado\"** </font>  y de esta forma tienes un codigo mas ordinario, programo en distintos lenguajes, pero mi favorito es Pyhton, por toda la comunidad y librerias que ofrece, codigos muy complejos se resumen en pequeñas funciones, de las cuales hay mucha documentacion y la mayor parte del tiempo hay gente en la comunidad que te puede apoyar a resolver tus dudas.\n",
    "\n",
    "# Figura 5 parte 2\n",
    "El error esta dado por\n",
    "\n",
    "$$\\int_a^b f(x) dx - T(f) = -\\frac{h^3}{12} (f''(\\eta)), ~~~~a < \\eta < b.$$\n",
    "\n",
    "3. Por último al integrar el polinomio cuadrático que interpola a $f$ en $x =a, x = \\frac{a+b}{2},$ y $x=b$ se obtiene la regla de Simpson con $h = \\frac{b-a}{2}.$\n",
    "\n",
    "$$\\int_a^b f(x) dx \\approx \\int_a^b p_2 (x) dx = \\frac{h}{3} (f(a) + 4f(a+h) + f(b)) = S(f).$$\n",
    "\n",
    "El error que se comete al usar Simpson es \n",
    "\n",
    "$$ \\int_a^b f(x) dx - S(f) = \\frac{h^5}{90}(f^{(4)}(\\eta)), ~~ a < \\eta < b.$$\n",
    "   "
   ]
  },
  {
   "cell_type": "code",
   "execution_count": null,
   "metadata": {},
   "outputs": [],
   "source": [
    "#Fibonacci douglas"
   ]
  },
  {
   "cell_type": "code",
   "execution_count": 3,
   "metadata": {},
   "outputs": [
    {
     "name": "stdout",
     "output_type": "stream",
     "text": [
      "1\n",
      "3\n",
      "5\n",
      "7\n",
      "9\n",
      "11\n",
      "13\n",
      "15\n",
      "17\n",
      "19\n",
      "21\n",
      "23\n",
      "25\n",
      "27\n",
      "29\n",
      "31\n",
      "33\n",
      "35\n",
      "37\n",
      "39\n",
      "41\n",
      "43\n",
      "45\n",
      "47\n",
      "49\n",
      "51\n",
      "53\n",
      "55\n",
      "57\n",
      "59\n",
      "61\n",
      "63\n",
      "65\n",
      "67\n",
      "69\n",
      "71\n",
      "73\n",
      "75\n",
      "77\n",
      "79\n",
      "81\n",
      "83\n",
      "85\n",
      "87\n",
      "89\n",
      "91\n",
      "93\n",
      "95\n",
      "97\n",
      "99\n"
     ]
    }
   ],
   "source": [
    "for i in range(100):\n",
    "    if i % 2 != 0:\n",
    "        print(i)\n",
    "    "
   ]
  },
  {
   "cell_type": "code",
   "execution_count": null,
   "metadata": {},
   "outputs": [],
   "source": []
  }
 ],
 "metadata": {
  "kernelspec": {
   "display_name": "Python 3",
   "language": "python",
   "name": "python3"
  },
  "language_info": {
   "codemirror_mode": {
    "name": "ipython",
    "version": 3
   },
   "file_extension": ".py",
   "mimetype": "text/x-python",
   "name": "python",
   "nbconvert_exporter": "python",
   "pygments_lexer": "ipython3",
   "version": "3.7.6"
  }
 },
 "nbformat": 4,
 "nbformat_minor": 2
}
