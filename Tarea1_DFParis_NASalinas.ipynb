{
 "cells": [
  {
   "cell_type": "markdown",
   "metadata": {},
   "source": [
    "<img style=\"float: left; margin: 30px 15px 15px 15px;\" src=\"https://pngimage.net/wp-content/uploads/2018/06/logo-iteso-png-5.png\" width=\"300\" height=\"500\" /> \n",
    "    \n",
    "    \n",
    "### <font color='navy'> Simulación de procesos financieros. \n",
    "\n",
    "**Nombres:** Douglas Fabian Paris Merin & Noe Alejando Salinas Gandara.\n",
    "\n",
    "**Fecha:** 31 de enero del 2020.\n",
    "\n",
    "**Expediente** : 714977 & 714748.\n",
    "**Profesor:** Oscar David Jaramillo Zuluaga.\n",
    "\n",
    "# Tarea 1: Clase 3"
   ]
  },
  {
   "cell_type": "markdown",
   "metadata": {},
   "source": [
    "## Enunciado de tarea \n",
    "> Proyecto conjunto Github y resumen\n",
    "python"
   ]
  },
  {
   "cell_type": "markdown",
   "metadata": {},
   "source": [
    "### Ejercicio 1: Presentacíon y resumen"
   ]
  },
  {
   "cell_type": "markdown",
   "metadata": {},
   "source": [
    "# Parte Douglas Presentación\n",
    "\n",
    "## *Figura 5*\n",
    "\n",
    "1. La fórmula el rectángulo se obtiene al interpolar a $f(x)$ por medio del polinomio constante $p_0 (x) = f(\\frac{a + b}{2}).$\n",
    "\n",
    " $$ \\int_a^b f(x) dx \\approx (b-a) f(\\frac{a+b}{2}) = R(f).$$\n",
    " \n",
    " 2. La fórmula del trapecio se obtiene al interpolar a $f$ por medio de un polinomio líneal $p_1(x) = \\alpha x + \\beta$ que satisfaga $f(a) = p_1(a),$ y $f(b) = p_1(b).$ Determinar el polinomio líneal es equivalente a resolver un sistema de ecuaciones lineales para $\\alpha$ y $\\beta$ cuya solucion es \n",
    " \n",
    "    $$\\alpha = \\frac{f(b)-f(a)}{b-a} ~~~~\\beta = \\frac{f(b)a - f(a)b}{b-a}.$$\n",
    "    \n",
    "Al integrar $p_1(x)$ en el intervalo $[a,b]$ se obtiene la regla del trapecio con $h=b-a$\n",
    "\n",
    "$$ \\int_a^b f(x) dx \\approx \\int_a^b p_1 (x) dx = \\frac{h}{2}(f(a)+f(b)) = T(f).$$\n",
    "\n",
    "El error esta dado por\n",
    "\n",
    "$$\\int_a^b f(x) dx - T(f) = -\\frac{h^3}{12} (f''(\\eta)), ~~~~a < \\eta < b.$$\n",
    "\n",
    "3. Por último al integrar el polinomio cuadrático que interpola a $f$ en $x =a, x = \\frac{a+b}{2},$ y $x=b$ se obtiene la regla de Simpson con $h = \\frac{b-a}{2}.$\n",
    "\n",
    "$$\\int_a^b f(x) dx \\approx \\int_a^b p_2 (x) dx = \\frac{h}{3} (f(a) + 4f(a+h) + f(b)) = S(f).$$\n",
    "\n",
    "El error que se comete al usar Simpson es \n",
    "\n",
    "$$ \\int_a^b f(x) dx - S(f) = \\frac{h^5}{90}(f^{(4)}(\\eta)), ~~ a < \\eta < b.$$"
   ]
  },
  {
   "cell_type": "code",
   "execution_count": null,
   "metadata": {},
   "outputs": [],
   "source": [
    "# Parte Douglas Resumen"
   ]
  },
  {
   "cell_type": "code",
   "execution_count": null,
   "metadata": {},
   "outputs": [],
   "source": [
    "#Parte Noé Presentacion"
   ]
  },
  {
   "cell_type": "code",
   "execution_count": null,
   "metadata": {},
   "outputs": [],
   "source": [
    "#Parte Noe Resumen"
   ]
  }
 ],
 "metadata": {
  "kernelspec": {
   "display_name": "Python 3",
   "language": "python",
   "name": "python3"
  },
  "language_info": {
   "codemirror_mode": {
    "name": "ipython",
    "version": 3
   },
   "file_extension": ".py",
   "mimetype": "text/x-python",
   "name": "python",
   "nbconvert_exporter": "python",
   "pygments_lexer": "ipython3",
   "version": "3.7.4"
  }
 },
 "nbformat": 4,
 "nbformat_minor": 2
}
